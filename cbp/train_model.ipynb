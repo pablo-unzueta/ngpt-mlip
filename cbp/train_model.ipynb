{
 "cells": [
  {
   "cell_type": "code",
   "execution_count": 10,
   "metadata": {},
   "outputs": [
    {
     "name": "stdout",
     "output_type": "stream",
     "text": [
      "/Users/pablo/software/ngpt-mlip/cbp/__file__\n"
     ]
    }
   ],
   "source": [
    "# show file path of jupyter notebook\n",
    "import os"
   ]
  },
  {
   "cell_type": "code",
   "execution_count": 58,
   "metadata": {},
   "outputs": [],
   "source": [
    "import torch\n",
    "from model import CBPSimpleMLP\n",
    "from torch_geometric.datasets import QM9\n",
    "import numpy as np\n",
    "\n",
    "# model = CBPSimpleMLP(num_features=3696, num_hidden=1000, num_targets=1)"
   ]
  },
  {
   "cell_type": "code",
   "execution_count": 21,
   "metadata": {},
   "outputs": [
    {
     "name": "stderr",
     "output_type": "stream",
     "text": [
      "/Users/pablo/software/ngpt-mlip/.venv/lib/python3.11/site-packages/torch_geometric/data/dataset.py:240: UserWarning: The `pre_transform` argument differs from the one used in the pre-processed version of this dataset. If you want to make use of another pre-processing technique, pass `force_reload=True` explicitly to reload the dataset.\n",
      "  warnings.warn(\n",
      "Processing...\n",
      "Using a pre-processed version of the dataset. Please install 'rdkit' to alternatively process the raw data.\n",
      "Done!\n"
     ]
    }
   ],
   "source": [
    "# load data\n",
    "if not os.path.exists('../data/QM9'):\n",
    "    force_reload = True\n",
    "else:\n",
    "    force_reload = False\n",
    "\n",
    "dataset = QM9(root='../data', force_reload=force_reload)"
   ]
  },
  {
   "cell_type": "code",
   "execution_count": 32,
   "metadata": {},
   "outputs": [
    {
     "name": "stdout",
     "output_type": "stream",
     "text": [
      "5740\n"
     ]
    }
   ],
   "source": [
    "from dscribe.descriptors import SOAP\n",
    "from ase.atoms import Atoms\n",
    "soap_desc = SOAP(species=[\"C\", \"H\", \"O\", \"N\", \"F\"], r_cut=5, n_max=8, l_max=6, average=\"inner\")\n",
    "dummy = Atoms(\"H2O\")\n",
    "dummy_desc = soap_desc.create(dummy)\n",
    "print(dummy_desc.shape[0])"
   ]
  },
  {
   "cell_type": "code",
   "execution_count": 92,
   "metadata": {},
   "outputs": [],
   "source": [
    "model = CBPSimpleMLP(num_features=dummy_desc.shape[0], num_hidden=1000, num_targets=1)"
   ]
  },
  {
   "cell_type": "code",
   "execution_count": 93,
   "metadata": {},
   "outputs": [],
   "source": [
    "optimizer = torch.optim.Adam(model.parameters(), lr=0.001)\n",
    "scheduler = torch.optim.lr_scheduler.StepLR(optimizer, step_size=4500, gamma=0.5)\n",
    "criterion = torch.nn.MSELoss()"
   ]
  },
  {
   "cell_type": "code",
   "execution_count": 94,
   "metadata": {},
   "outputs": [],
   "source": [
    "from torch.utils.data import random_split\n",
    "from torch_geometric.loader import DataLoader\n",
    "\n",
    "train_data, val_data, test_data = random_split(dataset, [0.85, 0.05, 0.1])\n",
    "train_loader = DataLoader(train_data, batch_size=32, shuffle=True)\n",
    "val_loader = DataLoader(val_data, batch_size=32, shuffle=True)\n",
    "test_loader = DataLoader(test_data, batch_size=32, shuffle=True)"
   ]
  },
  {
   "cell_type": "code",
   "execution_count": 95,
   "metadata": {},
   "outputs": [],
   "source": [
    "data = next(iter(train_loader))"
   ]
  },
  {
   "cell_type": "code",
   "execution_count": 96,
   "metadata": {},
   "outputs": [
    {
     "data": {
      "text/plain": [
       "tensor([  0,  19,  37,  50,  65,  88, 107, 122, 138, 156, 175, 197, 218, 236,\n",
       "        256, 274, 291, 301, 320, 341, 359, 378, 399, 418, 434, 453, 474, 490,\n",
       "        507, 528, 543, 564, 584])"
      ]
     },
     "execution_count": 96,
     "metadata": {},
     "output_type": "execute_result"
    }
   ],
   "source": [
    "data.ptr"
   ]
  },
  {
   "cell_type": "code",
   "execution_count": 97,
   "metadata": {},
   "outputs": [],
   "source": [
    "data = next(iter(train_loader))\n",
    "def train():\n",
    "    model.train()\n",
    "    optimizer.zero_grad()\n",
    "    # Process each molecule in batch\n",
    "    descs = []\n",
    "    for i in range(len(data.ptr) - 1):\n",
    "        # Extract single molecule from batch\n",
    "        start, end = data.ptr[i], data.ptr[i+1]\n",
    "        atoms = Atoms(\n",
    "            numbers=data.z[start:end].tolist(),\n",
    "            positions=data.pos[start:end].tolist()\n",
    "        )\n",
    "        desc = soap_desc.create(atoms)\n",
    "        descs.append(torch.tensor(desc, dtype=torch.float32))\n",
    "    descs = torch.vstack(descs)\n",
    "    out = model(descs)\n",
    "    target = data.y[:,7].unsqueeze(1)\n",
    "    loss = criterion(out, target)\n",
    "    # print(f\"{out.shape=}, {target.shape=}\")\n",
    "    loss.backward()\n",
    "    optimizer.step()\n",
    "    return loss.item()"
   ]
  },
  {
   "cell_type": "code",
   "execution_count": 98,
   "metadata": {},
   "outputs": [
    {
     "name": "stdout",
     "output_type": "stream",
     "text": [
      "Epoch 50, Loss: 3792264.7500, LR: 0.001000\n",
      "Epoch 100, Loss: 597863.3125, LR: 0.001000\n",
      "Epoch 150, Loss: 226767.0938, LR: 0.001000\n",
      "Epoch 200, Loss: 178743.3125, LR: 0.001000\n",
      "Epoch 250, Loss: 158509.6562, LR: 0.001000\n",
      "Epoch 300, Loss: 143813.0000, LR: 0.001000\n",
      "Epoch 350, Loss: 131060.4219, LR: 0.001000\n",
      "Epoch 400, Loss: 119309.2344, LR: 0.001000\n",
      "Epoch 450, Loss: 108336.8516, LR: 0.001000\n",
      "Epoch 500, Loss: 98091.9375, LR: 0.001000\n",
      "Epoch 550, Loss: 88538.3281, LR: 0.001000\n",
      "Epoch 600, Loss: 79662.3203, LR: 0.001000\n",
      "Epoch 650, Loss: 71459.2031, LR: 0.001000\n",
      "Epoch 700, Loss: 63927.6016, LR: 0.001000\n",
      "Epoch 750, Loss: 57064.2344, LR: 0.001000\n",
      "Epoch 800, Loss: 50859.4180, LR: 0.001000\n",
      "Epoch 850, Loss: 45298.2812, LR: 0.001000\n",
      "Epoch 900, Loss: 40353.7734, LR: 0.001000\n",
      "Epoch 950, Loss: 35991.5625, LR: 0.001000\n",
      "Epoch 1000, Loss: 32169.1270, LR: 0.001000\n",
      "Epoch 1050, Loss: 28836.8301, LR: 0.001000\n",
      "Epoch 1100, Loss: 25942.1250, LR: 0.001000\n",
      "Epoch 1150, Loss: 23430.1133, LR: 0.001000\n",
      "Epoch 1200, Loss: 21246.3125, LR: 0.001000\n",
      "Epoch 1250, Loss: 19342.7305, LR: 0.001000\n",
      "Epoch 1300, Loss: 17675.1250, LR: 0.001000\n",
      "Epoch 1350, Loss: 16203.2090, LR: 0.001000\n",
      "Epoch 1400, Loss: 14893.0703, LR: 0.001000\n",
      "Epoch 1450, Loss: 13717.7656, LR: 0.001000\n",
      "Epoch 1500, Loss: 12655.0459, LR: 0.001000\n",
      "Epoch 1550, Loss: 11687.3555, LR: 0.001000\n",
      "Epoch 1600, Loss: 10801.1133, LR: 0.001000\n",
      "Epoch 1650, Loss: 9985.4580, LR: 0.001000\n",
      "Epoch 1700, Loss: 9231.7656, LR: 0.001000\n",
      "Epoch 1750, Loss: 8533.4160, LR: 0.001000\n",
      "Epoch 1800, Loss: 7884.8022, LR: 0.001000\n",
      "Epoch 1850, Loss: 7281.4492, LR: 0.001000\n",
      "Epoch 1900, Loss: 6719.6079, LR: 0.001000\n",
      "Epoch 1950, Loss: 6195.9966, LR: 0.001000\n",
      "Epoch 2000, Loss: 5707.8335, LR: 0.001000\n",
      "Epoch 2050, Loss: 5252.7456, LR: 0.001000\n",
      "Epoch 2100, Loss: 4828.4409, LR: 0.001000\n",
      "Epoch 2150, Loss: 4433.0127, LR: 0.001000\n",
      "Epoch 2200, Loss: 4064.7012, LR: 0.001000\n",
      "Epoch 2250, Loss: 3721.8560, LR: 0.001000\n",
      "Epoch 2300, Loss: 3403.0034, LR: 0.001000\n",
      "Epoch 2350, Loss: 3106.7012, LR: 0.001000\n",
      "Epoch 2400, Loss: 2831.7051, LR: 0.001000\n",
      "Epoch 2450, Loss: 2576.7336, LR: 0.001000\n",
      "Epoch 2500, Loss: 2340.6836, LR: 0.001000\n",
      "Epoch 2550, Loss: 2122.4443, LR: 0.001000\n",
      "Epoch 2600, Loss: 1920.9797, LR: 0.001000\n",
      "Epoch 2650, Loss: 1735.2910, LR: 0.001000\n",
      "Epoch 2700, Loss: 1564.4478, LR: 0.001000\n",
      "Epoch 2750, Loss: 1407.5668, LR: 0.001000\n",
      "Epoch 2800, Loss: 1263.6873, LR: 0.001000\n",
      "Epoch 2850, Loss: 1132.0957, LR: 0.001000\n",
      "Epoch 2900, Loss: 1011.9629, LR: 0.001000\n",
      "Epoch 2950, Loss: 902.5490, LR: 0.001000\n",
      "Epoch 3000, Loss: 803.0859, LR: 0.001000\n",
      "Epoch 3050, Loss: 712.8853, LR: 0.001000\n",
      "Epoch 3100, Loss: 631.2809, LR: 0.001000\n",
      "Epoch 3150, Loss: 557.6078, LR: 0.001000\n",
      "Epoch 3200, Loss: 491.2789, LR: 0.001000\n",
      "Epoch 3250, Loss: 431.6986, LR: 0.001000\n",
      "Epoch 3300, Loss: 378.3505, LR: 0.001000\n",
      "Epoch 3350, Loss: 330.6801, LR: 0.001000\n",
      "Epoch 3400, Loss: 288.2036, LR: 0.001000\n",
      "Epoch 3450, Loss: 250.4756, LR: 0.001000\n",
      "Epoch 3500, Loss: 217.0614, LR: 0.001000\n",
      "Epoch 3550, Loss: 187.5449, LR: 0.001000\n",
      "Epoch 3600, Loss: 161.5499, LR: 0.001000\n",
      "Epoch 3650, Loss: 138.7228, LR: 0.001000\n",
      "Epoch 3700, Loss: 118.7520, LR: 0.001000\n",
      "Epoch 3750, Loss: 101.3241, LR: 0.001000\n",
      "Epoch 3800, Loss: 86.1752, LR: 0.001000\n",
      "Epoch 3850, Loss: 73.0529, LR: 0.001000\n",
      "Epoch 3900, Loss: 61.7190, LR: 0.001000\n",
      "Epoch 3950, Loss: 51.9634, LR: 0.001000\n",
      "Epoch 4000, Loss: 43.6049, LR: 0.001000\n",
      "Epoch 4050, Loss: 36.4631, LR: 0.001000\n",
      "Epoch 4100, Loss: 30.3855, LR: 0.001000\n",
      "Epoch 4150, Loss: 25.2250, LR: 0.001000\n",
      "Epoch 4200, Loss: 20.8643, LR: 0.001000\n",
      "Epoch 4250, Loss: 17.1884, LR: 0.001000\n",
      "Epoch 4300, Loss: 14.1058, LR: 0.001000\n",
      "Epoch 4350, Loss: 11.5278, LR: 0.001000\n",
      "Epoch 4400, Loss: 9.3798, LR: 0.001000\n",
      "Epoch 4450, Loss: 7.6002, LR: 0.001000\n",
      "Epoch 4500, Loss: 6.1305, LR: 0.000500\n",
      "Epoch 4550, Loss: 5.4844, LR: 0.000500\n",
      "Epoch 4600, Loss: 4.9067, LR: 0.000500\n",
      "Epoch 4650, Loss: 4.3780, LR: 0.000500\n",
      "Epoch 4700, Loss: 3.8964, LR: 0.000500\n",
      "Epoch 4750, Loss: 3.4563, LR: 0.000500\n",
      "Epoch 4800, Loss: 3.0595, LR: 0.000500\n",
      "Epoch 4850, Loss: 2.6987, LR: 0.000500\n",
      "Epoch 4900, Loss: 2.3736, LR: 0.000500\n",
      "Epoch 4950, Loss: 2.0813, LR: 0.000500\n"
     ]
    }
   ],
   "source": [
    "for epoch in range(1, 5000):\n",
    "    loss = train()\n",
    "    scheduler.step()\n",
    "    if epoch % 50 == 0:\n",
    "        print(f'Epoch {epoch}, Loss: {loss:.4f}, LR: {optimizer.param_groups[0][\"lr\"]:.6f}')\n"
   ]
  },
  {
   "cell_type": "code",
   "execution_count": 101,
   "metadata": {},
   "outputs": [
    {
     "name": "stdout",
     "output_type": "stream",
     "text": [
      "tensor([[-12456.3379],\n",
      "        [-10393.2490],\n",
      "        [-12551.7695],\n",
      "        [-11913.7178],\n",
      "        [-11373.7139],\n",
      "        [-10968.5967],\n",
      "        [-10974.4053],\n",
      "        [-12522.0615],\n",
      "        [-11309.7324],\n",
      "        [-12892.8379],\n",
      "        [-11407.7510],\n",
      "        [-10907.3799],\n",
      "        [ -9496.6553],\n",
      "        [-10911.6494],\n",
      "        [-11404.0615],\n",
      "        [-12926.3096],\n",
      "        [-10937.4004],\n",
      "        [-11779.8428],\n",
      "        [-11813.1787],\n",
      "        [ -9929.4297],\n",
      "        [-11544.7393],\n",
      "        [-10878.4326],\n",
      "        [-10846.6885],\n",
      "        [-10905.1035],\n",
      "        [-10496.0547],\n",
      "        [ -8551.9775],\n",
      "        [-11945.9189],\n",
      "        [-10532.5625],\n",
      "        [-10339.4072],\n",
      "        [-11915.6416],\n",
      "        [ -9935.7480],\n",
      "        [-12552.8555]])\n"
     ]
    }
   ],
   "source": [
    "with torch.no_grad():\n",
    "    model.eval()\n",
    "    descs = []\n",
    "    for i in range(len(data.ptr) - 1):\n",
    "        # Extract single molecule from batch\n",
    "        start, end = data.ptr[i], data.ptr[i+1]\n",
    "        atoms = Atoms(\n",
    "            numbers=data.z[start:end].tolist(),\n",
    "            positions=data.pos[start:end].tolist()\n",
    "        )\n",
    "        desc = soap_desc.create(atoms)\n",
    "        descs.append(torch.tensor(desc, dtype=torch.float32))\n",
    "    descs = torch.vstack(descs)\n",
    "    out = model(descs)\n",
    "    print(out)\n"
   ]
  },
  {
   "cell_type": "code",
   "execution_count": 102,
   "metadata": {},
   "outputs": [
    {
     "data": {
      "text/plain": [
       "tensor([-12456.6152, -10394.7930, -12553.4160, -11913.6953, -11373.6348,\n",
       "        -10968.2178, -10970.7734, -12520.1357, -11309.9805, -12893.6465,\n",
       "        -11408.1865, -10906.9854,  -9497.0439, -10911.2334, -11406.7881,\n",
       "        -12925.4111, -10937.5283, -11780.0244, -11812.0732,  -9928.6992,\n",
       "        -11542.6934, -10878.3564, -10846.5186, -10904.0664, -10498.8330,\n",
       "         -8551.8818, -11948.9355, -10533.0234, -10338.8525, -11914.9219,\n",
       "         -9934.7188, -12553.4434])"
      ]
     },
     "execution_count": 102,
     "metadata": {},
     "output_type": "execute_result"
    }
   ],
   "source": [
    "data.y[:,7]"
   ]
  },
  {
   "cell_type": "code",
   "execution_count": 104,
   "metadata": {},
   "outputs": [
    {
     "data": {
      "text/plain": [
       "[<matplotlib.lines.Line2D at 0x2c1019c90>]"
      ]
     },
     "execution_count": 104,
     "metadata": {},
     "output_type": "execute_result"
    },
    {
     "data": {
      "image/png": "[encoded data removed]",
      "text/plain": [
       "<Figure size 640x480 with 1 Axes>"
      ]
     },
     "metadata": {},
     "output_type": "display_data"
    }
   ],
   "source": [
    "import matplotlib.pyplot as plt\n",
    "plt.plot(data.y[:,7], out, '.')"
   ]
  },
  {
   "cell_type": "code",
   "execution_count": null,
   "metadata": {},
   "outputs": [],
   "source": []
  }
 ],
 "metadata": {
  "kernelspec": {
   "display_name": ".venv",
   "language": "python",
   "name": "python3"
  },
  "language_info": {
   "codemirror_mode": {
    "name": "ipython",
    "version": 3
   },
   "file_extension": ".py",
   "mimetype": "text/x-python",
   "name": "python",
   "nbconvert_exporter": "python",
   "pygments_lexer": "ipython3",
   "version": "3.11.6"
  }
 },
 "nbformat": 4,
 "nbformat_minor": 2
}
